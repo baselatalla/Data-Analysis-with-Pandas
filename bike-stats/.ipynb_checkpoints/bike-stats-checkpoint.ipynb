{
 "cells": [
  {
   "cell_type": "markdown",
   "id": "91773ce4-535a-4316-811f-637600646960",
   "metadata": {},
   "source": [
    "#  Data Analysis with Pandas\n",
    "\n",
    "### Data set name: Cycle Share Data set - Bicycle Trip Data from Seattle’s Cycle Share System\n",
    "\n",
    "#### Name: Basel Atalla\n",
    "#### Date: 21/Jun/021 "
   ]
  },
  {
   "cell_type": "code",
   "execution_count": 1,
   "id": "0373b42c-e1f1-40c3-bc6b-03df4e54c28a",
   "metadata": {},
   "outputs": [],
   "source": [
    "import pandas as pd\n",
    "import numpy as np"
   ]
  },
  {
   "cell_type": "code",
   "execution_count": 2,
   "id": "d3d50493-fb24-4733-bd24-07fb2c7ba91e",
   "metadata": {},
   "outputs": [
    {
     "name": "stderr",
     "output_type": "stream",
     "text": [
      "b'Skipping line 50794: expected 12 fields, saw 20\\n'\n"
     ]
    }
   ],
   "source": [
    "df_stations = pd.read_csv('./station.csv')\n",
    "df_trip = pd.read_csv('./trip.csv', error_bad_lines=False)\n",
    "df_weather = pd.read_csv('./weather.csv')"
   ]
  },
  {
   "cell_type": "markdown",
   "id": "b34ca55e-e855-4f09-a3f6-69072aab64ad",
   "metadata": {},
   "source": [
    "##### 1. What is the average trip duration for a borrowed bicycle?\n"
   ]
  },
  {
   "cell_type": "code",
   "execution_count": 3,
   "id": "e275b4b3-f787-4a48-ae60-00fc8290ed38",
   "metadata": {},
   "outputs": [
    {
     "data": {
      "text/plain": [
       "1178.2956753399776"
      ]
     },
     "execution_count": 3,
     "metadata": {},
     "output_type": "execute_result"
    }
   ],
   "source": [
    "avg =df_trip['tripduration'].mean()\n",
    "avg"
   ]
  },
  {
   "cell_type": "markdown",
   "id": "342b0724-ee33-4e0c-9e5b-55c9f84abf17",
   "metadata": {},
   "source": [
    "##### 2. What’s the most common age of a bicycle-sharer?\n"
   ]
  },
  {
   "cell_type": "code",
   "execution_count": 14,
   "id": "ba599e99-276f-4f03-a4f2-cbd458e9f32a",
   "metadata": {},
   "outputs": [
    {
     "data": {
      "text/plain": [
       "34.0"
      ]
     },
     "execution_count": 14,
     "metadata": {},
     "output_type": "execute_result"
    }
   ],
   "source": [
    "most_common_age1 = df_trip['birthyear'].mode()[0]\n",
    "most_common_age = 2021 - most_common_age1\n",
    "most_common_age"
   ]
  },
  {
   "cell_type": "markdown",
   "id": "58a7aa29-669a-416d-85c9-ce4f0127bbcd",
   "metadata": {},
   "source": [
    "##### 3. Given all the weather data here, find the average precipitation per month, and the median precipitation.\n",
    "\n"
   ]
  },
  {
   "cell_type": "code",
   "execution_count": 18,
   "id": "153b585c-a2a1-4006-baab-61447e0ee26e",
   "metadata": {},
   "outputs": [
    {
     "data": {
      "text/plain": [
       "(Date\n",
       " 1     0.143548\n",
       " 2     0.168421\n",
       " 3     0.156935\n",
       " 4     0.051333\n",
       " 5     0.012419\n",
       " 6     0.030500\n",
       " 7     0.012097\n",
       " 8     0.018226\n",
       " 9     0.041000\n",
       " 10    0.189000\n",
       " 11    0.187833\n",
       " 12    0.236290\n",
       " Name: Precipitation_In, dtype: float64,\n",
       " Date\n",
       " 1     0.020\n",
       " 2     0.040\n",
       " 3     0.025\n",
       " 4     0.000\n",
       " 5     0.000\n",
       " 6     0.000\n",
       " 7     0.000\n",
       " 8     0.000\n",
       " 9     0.000\n",
       " 10    0.040\n",
       " 11    0.035\n",
       " 12    0.100\n",
       " Name: Precipitation_In, dtype: float64)"
      ]
     },
     "execution_count": 18,
     "metadata": {},
     "output_type": "execute_result"
    }
   ],
   "source": [
    "month =pd.DatetimeIndex(df_weather['Date']).month\n",
    "month_avg=df_weather.groupby(month)[\"Precipitation_In\"].mean()\n",
    "month_median=df_weather.groupby(month)[\"Precipitation_In\"].median()\n",
    "(month_avg,month_median)\n"
   ]
  },
  {
   "cell_type": "markdown",
   "id": "66fd7044-1a8a-4ca4-9d9c-209f72873eef",
   "metadata": {},
   "source": [
    "##### 4. What’s the average number of bikes at a given bike station?\n"
   ]
  },
  {
   "cell_type": "code",
   "execution_count": 6,
   "id": "270a73b2-6f27-4edb-8114-5c4368d59fc0",
   "metadata": {},
   "outputs": [
    {
     "data": {
      "text/plain": [
       "17.586206896551722"
      ]
     },
     "execution_count": 6,
     "metadata": {},
     "output_type": "execute_result"
    }
   ],
   "source": [
    "avareg_bike =df_stations[\"install_dockcount\"].mean()\n",
    "avareg_bike"
   ]
  },
  {
   "cell_type": "markdown",
   "id": "55ba2a4f-e81d-4ce9-80a2-27e725486db3",
   "metadata": {},
   "source": [
    "##### 5. When a bike station is modified, is it more likely that it’ll lose bikes or gain bikes? How do you know?\n"
   ]
  },
  {
   "cell_type": "markdown",
   "id": "29e70406-e5c0-4004-9537-6b59114e4389",
   "metadata": {},
   "source": [
    "##### if the deffence a negative numder it will lose , and if positive it will gain"
   ]
  },
  {
   "cell_type": "code",
   "execution_count": 7,
   "id": "fb55d9a2-d329-44d9-a344-a2871295fb2c",
   "metadata": {},
   "outputs": [
    {
     "data": {
      "text/plain": [
       "-62"
      ]
     },
     "execution_count": 7,
     "metadata": {},
     "output_type": "execute_result"
    }
   ],
   "source": [
    "modified = df_stations[['install_dockcount','modification_date', 'current_dockcount']]\n",
    "modified.dropna()\n",
    "current_dock = modified['current_dockcount'].sum()\n",
    "install_dock = modified['install_dockcount'].sum()\n",
    "gain_or_lose = current_dock - install_dock "
   ]
  },
  {
   "cell_type": "markdown",
   "id": "e2fd203e-3e38-4a98-8521-0b055c057bdc",
   "metadata": {},
   "source": [
    "##### 6. Come up with 3 more questions that can be answered with this data set.\n"
   ]
  },
  {
   "cell_type": "markdown",
   "id": "e4ef8823-8312-4cc5-ab10-f77c93f4032d",
   "metadata": {},
   "source": [
    "##### Q6.1 What is the most common biker Gender?"
   ]
  },
  {
   "cell_type": "code",
   "execution_count": 8,
   "id": "93693c9b-c838-4a72-832d-9624c441f848",
   "metadata": {},
   "outputs": [
    {
     "data": {
      "text/plain": [
       "'Male'"
      ]
     },
     "execution_count": 8,
     "metadata": {},
     "output_type": "execute_result"
    }
   ],
   "source": [
    "common_gender = df_trip['gender'].mode()[0]\n",
    "common_gender"
   ]
  },
  {
   "cell_type": "markdown",
   "id": "e830c1f4-6ab4-41db-9c74-ea013a7444f7",
   "metadata": {},
   "source": [
    "##### Q6.2  ehat is the mean humidity for all monthes?"
   ]
  },
  {
   "cell_type": "code",
   "execution_count": 9,
   "id": "3fd45c2c-4a3a-40de-977e-58db167e14a4",
   "metadata": {},
   "outputs": [
    {
     "data": {
      "text/plain": [
       "68.50653120464442"
      ]
     },
     "execution_count": 9,
     "metadata": {},
     "output_type": "execute_result"
    }
   ],
   "source": [
    "df_weather['Mean_Humidity'].mean()"
   ]
  },
  {
   "cell_type": "markdown",
   "id": "40ae2863-6f64-41e0-8f62-82431923f546",
   "metadata": {},
   "source": [
    "##### Q6.3 what is the day where the wind speed is the highest?"
   ]
  },
  {
   "cell_type": "code",
   "execution_count": 10,
   "id": "b0b05534-a8f3-4911-a2ef-3a0e555871d2",
   "metadata": {},
   "outputs": [
    {
     "data": {
      "text/plain": [
       "'9/9/2015'"
      ]
     },
     "execution_count": 10,
     "metadata": {},
     "output_type": "execute_result"
    }
   ],
   "source": [
    "df_weather[['Date','Mean_Wind_Speed_MPH']].max()[0]\n",
    "\n"
   ]
  },
  {
   "cell_type": "code",
   "execution_count": 19,
   "id": "76cb07c7-b0ec-49f4-aaef-008340cd3235",
   "metadata": {},
   "outputs": [
    {
     "ename": "NameError",
     "evalue": "name 'most_common_genre' is not defined",
     "output_type": "error",
     "traceback": [
      "\u001b[0;31m---------------------------------------------------------------------------\u001b[0m",
      "\u001b[0;31mNameError\u001b[0m                                 Traceback (most recent call last)",
      "\u001b[0;32m<ipython-input-19-e9ee46f1086c>\u001b[0m in \u001b[0;36m<module>\u001b[0;34m\u001b[0m\n\u001b[1;32m     18\u001b[0m     \u001b[0mprint\u001b[0m\u001b[0;34m(\u001b[0m\u001b[0;34m\"Success!!!\"\u001b[0m\u001b[0;34m)\u001b[0m\u001b[0;34m\u001b[0m\u001b[0;34m\u001b[0m\u001b[0m\n\u001b[1;32m     19\u001b[0m \u001b[0;34m\u001b[0m\u001b[0m\n\u001b[0;32m---> 20\u001b[0;31m \u001b[0mtest\u001b[0m\u001b[0;34m(\u001b[0m\u001b[0;34m)\u001b[0m\u001b[0;34m\u001b[0m\u001b[0;34m\u001b[0m\u001b[0m\n\u001b[0m",
      "\u001b[0;32m<ipython-input-19-e9ee46f1086c>\u001b[0m in \u001b[0;36mtest\u001b[0;34m()\u001b[0m\n\u001b[1;32m      6\u001b[0m     \u001b[0massert_equal\u001b[0m\u001b[0;34m(\u001b[0m\u001b[0mavg\u001b[0m\u001b[0;34m,\u001b[0m \u001b[0;36m1178.2956753399776\u001b[0m\u001b[0;34m)\u001b[0m\u001b[0;34m\u001b[0m\u001b[0;34m\u001b[0m\u001b[0m\n\u001b[1;32m      7\u001b[0m     \u001b[0massert_equal\u001b[0m\u001b[0;34m(\u001b[0m\u001b[0mmost_common_age\u001b[0m\u001b[0;34m,\u001b[0m \u001b[0;36m34.0\u001b[0m\u001b[0;34m)\u001b[0m\u001b[0;34m\u001b[0m\u001b[0;34m\u001b[0m\u001b[0m\n\u001b[0;32m----> 8\u001b[0;31m     \u001b[0massert_equal\u001b[0m\u001b[0;34m(\u001b[0m\u001b[0mmost_common_genre\u001b[0m \u001b[0;34m,\u001b[0m\u001b[0;34m'Action'\u001b[0m\u001b[0;34m)\u001b[0m\u001b[0;34m\u001b[0m\u001b[0;34m\u001b[0m\u001b[0m\n\u001b[0m\u001b[1;32m      9\u001b[0m     \u001b[0massert_equal\u001b[0m\u001b[0;34m(\u001b[0m\u001b[0mmonth_avg\u001b[0m\u001b[0;34m.\u001b[0m\u001b[0miloc\u001b[0m\u001b[0;34m[\u001b[0m\u001b[0;36m0\u001b[0m\u001b[0;34m]\u001b[0m \u001b[0;34m,\u001b[0m \u001b[0;36m0.14354838709677417\u001b[0m\u001b[0;34m)\u001b[0m\u001b[0;34m\u001b[0m\u001b[0;34m\u001b[0m\u001b[0m\n\u001b[1;32m     10\u001b[0m     \u001b[0massert_equal\u001b[0m\u001b[0;34m(\u001b[0m\u001b[0mtop_twenty_highest_grossing_games\u001b[0m\u001b[0;34m.\u001b[0m\u001b[0miloc\u001b[0m\u001b[0;34m[\u001b[0m\u001b[0;36m19\u001b[0m\u001b[0;34m]\u001b[0m\u001b[0;34m.\u001b[0m\u001b[0mName\u001b[0m\u001b[0;34m,\u001b[0m \u001b[0;34m'Brain Age: Train Your Brain in Minutes a Day'\u001b[0m\u001b[0;34m)\u001b[0m\u001b[0;34m\u001b[0m\u001b[0;34m\u001b[0m\u001b[0m\n",
      "\u001b[0;31mNameError\u001b[0m: name 'most_common_genre' is not defined"
     ]
    }
   ],
   "source": [
    "def test():\n",
    "\n",
    "    def assert_equal(actual,expected):\n",
    "        assert actual == expected, f\"Expected {expected} but got {actual}\"\n",
    "\n",
    "    assert_equal(avg, 1178.2956753399776)\n",
    "    assert_equal(most_common_age, 34.0)\n",
    "    assert_equal(month_avg.iloc[0] , 0.14354838709677417)\n",
    "    assert_equal(avareg_bike, 17.586206896551722)\n",
    "        assert_equal(gain_or_lose, -62)\n",
    "    assert_equal(common_gender, 'Male')\n",
    "    assert_equal(best_action_game ,'inFAMOUS: Second Son')\n",
    "    assert_equal(best_in_2010, 'uDraw Studio')\n",
    "    assert_equal(average_number, 0.6994037735849057)\n",
    "\n",
    "    print(\"Success!!!\")\n",
    "\n",
    "test()"
   ]
  },
  {
   "cell_type": "code",
   "execution_count": null,
   "id": "5d13e4b1-c6dc-41c4-9c3f-597dede4b654",
   "metadata": {},
   "outputs": [],
   "source": []
  }
 ],
 "metadata": {
  "kernelspec": {
   "display_name": "Python 3",
   "language": "python",
   "name": "python3"
  },
  "language_info": {
   "codemirror_mode": {
    "name": "ipython",
    "version": 3
   },
   "file_extension": ".py",
   "mimetype": "text/x-python",
   "name": "python",
   "nbconvert_exporter": "python",
   "pygments_lexer": "ipython3",
   "version": "3.9.4"
  }
 },
 "nbformat": 4,
 "nbformat_minor": 5
}

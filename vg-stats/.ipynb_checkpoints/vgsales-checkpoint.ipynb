{
 "cells": [
  {
   "cell_type": "markdown",
   "id": "0507fa8b-8d5e-4e53-88b4-c10e144e6216",
   "metadata": {},
   "source": [
    "#  Data Analysis with Pandas\n",
    "\n",
    "### Data set name: Video Game Sales - Sales data from more than 16,500 games\n",
    "\n",
    "#### Name: Basel Atalla\n",
    "#### Date: 21/Jun/021 \n"
   ]
  },
  {
   "cell_type": "code",
   "execution_count": 1,
   "id": "0fa4f7a3-056d-46da-a5f8-eaa3a8ac00c7",
   "metadata": {},
   "outputs": [],
   "source": [
    "import pandas as pd\n",
    "import numpy as np\n",
    "\n"
   ]
  },
  {
   "cell_type": "code",
   "execution_count": 2,
   "id": "a886f0e7-958c-4f9c-994d-537c10cdf441",
   "metadata": {},
   "outputs": [],
   "source": [
    "df = pd.read_csv('./vgsales.csv')"
   ]
  },
  {
   "cell_type": "code",
   "execution_count": null,
   "id": "222c0db0-45a9-440d-805e-b23b871f3058",
   "metadata": {},
   "outputs": [],
   "source": []
  },
  {
   "cell_type": "markdown",
   "id": "1232feca-e1d1-4de1-8fed-701b6d0a16f5",
   "metadata": {},
   "source": [
    "##### 1. Which company is the most common video game publisher?"
   ]
  },
  {
   "cell_type": "code",
   "execution_count": 3,
   "id": "d5995be0-bb51-4b83-8797-648bdcd4a519",
   "metadata": {
    "tags": []
   },
   "outputs": [
    {
     "data": {
      "text/plain": [
       "'Electronic Arts'"
      ]
     },
     "execution_count": 3,
     "metadata": {},
     "output_type": "execute_result"
    }
   ],
   "source": [
    "most_common_publisher = df.Publisher.mode()[0]\n",
    "most_common_publisher"
   ]
  },
  {
   "cell_type": "markdown",
   "id": "fe46ab31-eba1-44d0-b430-778ef8b13149",
   "metadata": {},
   "source": [
    "##### 2. What’s the most common platform?"
   ]
  },
  {
   "cell_type": "code",
   "execution_count": 4,
   "id": "46a51736-02c2-4621-b288-22b700ffcd1b",
   "metadata": {},
   "outputs": [
    {
     "data": {
      "text/plain": [
       "'DS'"
      ]
     },
     "execution_count": 4,
     "metadata": {},
     "output_type": "execute_result"
    }
   ],
   "source": [
    "most_common_platform= df.Platform.mode()[0]\n",
    "most_common_platform"
   ]
  },
  {
   "cell_type": "markdown",
   "id": "4e8b0526-545b-4874-a345-c633536d9d55",
   "metadata": {},
   "source": [
    "##### 3. What about the most common genre?"
   ]
  },
  {
   "cell_type": "code",
   "execution_count": 5,
   "id": "f28e0faf-9251-4c37-8193-1ccbfc4a7e60",
   "metadata": {},
   "outputs": [
    {
     "data": {
      "text/plain": [
       "'Action'"
      ]
     },
     "execution_count": 5,
     "metadata": {},
     "output_type": "execute_result"
    }
   ],
   "source": [
    "most_common_genre = df.Genre.mode()[0]\n",
    "most_common_genre"
   ]
  },
  {
   "cell_type": "markdown",
   "id": "aef92f8b-c7e8-47d1-a34b-5e422ad6e4aa",
   "metadata": {},
   "source": [
    "##### 4. What are the top 20 highest grossing games? "
   ]
  },
  {
   "cell_type": "code",
   "execution_count": 6,
   "id": "1ffc51ee-9d65-4d7d-a015-3d2a32b2df78",
   "metadata": {},
   "outputs": [],
   "source": [
    "highest_grossing_games = df.head(20)"
   ]
  },
  {
   "cell_type": "code",
   "execution_count": 7,
   "id": "709b9aeb-d2fa-4e7c-af10-3c0fecec3e50",
   "metadata": {},
   "outputs": [
    {
     "data": {
      "text/html": [
       "<div>\n",
       "<style scoped>\n",
       "    .dataframe tbody tr th:only-of-type {\n",
       "        vertical-align: middle;\n",
       "    }\n",
       "\n",
       "    .dataframe tbody tr th {\n",
       "        vertical-align: top;\n",
       "    }\n",
       "\n",
       "    .dataframe thead th {\n",
       "        text-align: right;\n",
       "    }\n",
       "</style>\n",
       "<table border=\"1\" class=\"dataframe\">\n",
       "  <thead>\n",
       "    <tr style=\"text-align: right;\">\n",
       "      <th></th>\n",
       "      <th>Name</th>\n",
       "      <th>Global_Sales</th>\n",
       "    </tr>\n",
       "  </thead>\n",
       "  <tbody>\n",
       "    <tr>\n",
       "      <th>0</th>\n",
       "      <td>Wii Sports</td>\n",
       "      <td>82.74</td>\n",
       "    </tr>\n",
       "    <tr>\n",
       "      <th>1</th>\n",
       "      <td>Super Mario Bros.</td>\n",
       "      <td>40.24</td>\n",
       "    </tr>\n",
       "    <tr>\n",
       "      <th>2</th>\n",
       "      <td>Mario Kart Wii</td>\n",
       "      <td>35.82</td>\n",
       "    </tr>\n",
       "    <tr>\n",
       "      <th>3</th>\n",
       "      <td>Wii Sports Resort</td>\n",
       "      <td>33.00</td>\n",
       "    </tr>\n",
       "    <tr>\n",
       "      <th>4</th>\n",
       "      <td>Pokemon Red/Pokemon Blue</td>\n",
       "      <td>31.37</td>\n",
       "    </tr>\n",
       "    <tr>\n",
       "      <th>5</th>\n",
       "      <td>Tetris</td>\n",
       "      <td>30.26</td>\n",
       "    </tr>\n",
       "    <tr>\n",
       "      <th>6</th>\n",
       "      <td>New Super Mario Bros.</td>\n",
       "      <td>30.01</td>\n",
       "    </tr>\n",
       "    <tr>\n",
       "      <th>7</th>\n",
       "      <td>Wii Play</td>\n",
       "      <td>29.02</td>\n",
       "    </tr>\n",
       "    <tr>\n",
       "      <th>8</th>\n",
       "      <td>New Super Mario Bros. Wii</td>\n",
       "      <td>28.62</td>\n",
       "    </tr>\n",
       "    <tr>\n",
       "      <th>9</th>\n",
       "      <td>Duck Hunt</td>\n",
       "      <td>28.31</td>\n",
       "    </tr>\n",
       "    <tr>\n",
       "      <th>10</th>\n",
       "      <td>Nintendogs</td>\n",
       "      <td>24.76</td>\n",
       "    </tr>\n",
       "    <tr>\n",
       "      <th>11</th>\n",
       "      <td>Mario Kart DS</td>\n",
       "      <td>23.42</td>\n",
       "    </tr>\n",
       "    <tr>\n",
       "      <th>12</th>\n",
       "      <td>Pokemon Gold/Pokemon Silver</td>\n",
       "      <td>23.10</td>\n",
       "    </tr>\n",
       "    <tr>\n",
       "      <th>13</th>\n",
       "      <td>Wii Fit</td>\n",
       "      <td>22.72</td>\n",
       "    </tr>\n",
       "    <tr>\n",
       "      <th>14</th>\n",
       "      <td>Wii Fit Plus</td>\n",
       "      <td>22.00</td>\n",
       "    </tr>\n",
       "    <tr>\n",
       "      <th>15</th>\n",
       "      <td>Kinect Adventures!</td>\n",
       "      <td>21.82</td>\n",
       "    </tr>\n",
       "    <tr>\n",
       "      <th>16</th>\n",
       "      <td>Grand Theft Auto V</td>\n",
       "      <td>21.40</td>\n",
       "    </tr>\n",
       "    <tr>\n",
       "      <th>17</th>\n",
       "      <td>Grand Theft Auto: San Andreas</td>\n",
       "      <td>20.81</td>\n",
       "    </tr>\n",
       "    <tr>\n",
       "      <th>18</th>\n",
       "      <td>Super Mario World</td>\n",
       "      <td>20.61</td>\n",
       "    </tr>\n",
       "    <tr>\n",
       "      <th>19</th>\n",
       "      <td>Brain Age: Train Your Brain in Minutes a Day</td>\n",
       "      <td>20.22</td>\n",
       "    </tr>\n",
       "  </tbody>\n",
       "</table>\n",
       "</div>"
      ],
      "text/plain": [
       "                                            Name  Global_Sales\n",
       "0                                     Wii Sports         82.74\n",
       "1                              Super Mario Bros.         40.24\n",
       "2                                 Mario Kart Wii         35.82\n",
       "3                              Wii Sports Resort         33.00\n",
       "4                       Pokemon Red/Pokemon Blue         31.37\n",
       "5                                         Tetris         30.26\n",
       "6                          New Super Mario Bros.         30.01\n",
       "7                                       Wii Play         29.02\n",
       "8                      New Super Mario Bros. Wii         28.62\n",
       "9                                      Duck Hunt         28.31\n",
       "10                                    Nintendogs         24.76\n",
       "11                                 Mario Kart DS         23.42\n",
       "12                   Pokemon Gold/Pokemon Silver         23.10\n",
       "13                                       Wii Fit         22.72\n",
       "14                                  Wii Fit Plus         22.00\n",
       "15                            Kinect Adventures!         21.82\n",
       "16                            Grand Theft Auto V         21.40\n",
       "17                 Grand Theft Auto: San Andreas         20.81\n",
       "18                             Super Mario World         20.61\n",
       "19  Brain Age: Train Your Brain in Minutes a Day         20.22"
      ]
     },
     "execution_count": 7,
     "metadata": {},
     "output_type": "execute_result"
    }
   ],
   "source": [
    "top_twenty_highest_grossing_games = highest_grossing_games[['Name', 'Global_Sales']]\n",
    "top_twenty_highest_grossing_games"
   ]
  },
  {
   "cell_type": "markdown",
   "id": "a18eb60d-ce22-4558-bb3a-c1932f654c8e",
   "metadata": {},
   "source": [
    "##### 5.What are the top 20 highest grossing games?"
   ]
  },
  {
   "cell_type": "code",
   "execution_count": 18,
   "id": "22e60d4a-600b-4c96-bfb0-9ef0a9b2a63d",
   "metadata": {},
   "outputs": [
    {
     "data": {
      "text/plain": [
       "0.08"
      ]
     },
     "execution_count": 18,
     "metadata": {},
     "output_type": "execute_result"
    }
   ],
   "source": [
    "na_median_sales = df['NA_Sales'].median()\n",
    "na_median_sales"
   ]
  },
  {
   "cell_type": "markdown",
   "id": "dadc7b34-bcba-4a87-b13b-4e6bae0024fd",
   "metadata": {},
   "source": []
  },
  {
   "cell_type": "code",
   "execution_count": 9,
   "id": "a04f7de2-45d6-4b99-8081-c3c1fc1b48bf",
   "metadata": {},
   "outputs": [],
   "source": [
    "surrounding_median = df[df['NA_Sales'] == df['NA_Sales'].median()][225:235].sort_values(by=['Rank'],ascending=[False])\n"
   ]
  },
  {
   "cell_type": "code",
   "execution_count": 23,
   "id": "177b231a-beae-4fc3-868c-336c264c0c5d",
   "metadata": {},
   "outputs": [
    {
     "data": {
      "text/html": [
       "<div>\n",
       "<style scoped>\n",
       "    .dataframe tbody tr th:only-of-type {\n",
       "        vertical-align: middle;\n",
       "    }\n",
       "\n",
       "    .dataframe tbody tr th {\n",
       "        vertical-align: top;\n",
       "    }\n",
       "\n",
       "    .dataframe thead th {\n",
       "        text-align: right;\n",
       "    }\n",
       "</style>\n",
       "<table border=\"1\" class=\"dataframe\">\n",
       "  <thead>\n",
       "    <tr style=\"text-align: right;\">\n",
       "      <th></th>\n",
       "      <th>Name</th>\n",
       "    </tr>\n",
       "  </thead>\n",
       "  <tbody>\n",
       "    <tr>\n",
       "      <th>10029</th>\n",
       "      <td>Tony Hawk's Pro Skater 5</td>\n",
       "    </tr>\n",
       "    <tr>\n",
       "      <th>10026</th>\n",
       "      <td>NBA Jam 2002</td>\n",
       "    </tr>\n",
       "    <tr>\n",
       "      <th>10024</th>\n",
       "      <td>Family Game Night 4: The Game Show</td>\n",
       "    </tr>\n",
       "    <tr>\n",
       "      <th>10022</th>\n",
       "      <td>LEGO Knights' Kingdom</td>\n",
       "    </tr>\n",
       "    <tr>\n",
       "      <th>10020</th>\n",
       "      <td>Phantasy Star Collection</td>\n",
       "    </tr>\n",
       "    <tr>\n",
       "      <th>10012</th>\n",
       "      <td>Nickelodeon Dance</td>\n",
       "    </tr>\n",
       "    <tr>\n",
       "      <th>10000</th>\n",
       "      <td>A Witch's Tale</td>\n",
       "    </tr>\n",
       "    <tr>\n",
       "      <th>9996</th>\n",
       "      <td>GT Advance 2: Rally Racing</td>\n",
       "    </tr>\n",
       "    <tr>\n",
       "      <th>9957</th>\n",
       "      <td>Deadpool</td>\n",
       "    </tr>\n",
       "    <tr>\n",
       "      <th>9934</th>\n",
       "      <td>Turok: Evolution</td>\n",
       "    </tr>\n",
       "  </tbody>\n",
       "</table>\n",
       "</div>"
      ],
      "text/plain": [
       "                                     Name\n",
       "10029            Tony Hawk's Pro Skater 5\n",
       "10026                        NBA Jam 2002\n",
       "10024  Family Game Night 4: The Game Show\n",
       "10022               LEGO Knights' Kingdom\n",
       "10020            Phantasy Star Collection\n",
       "10012                   Nickelodeon Dance\n",
       "10000                      A Witch's Tale\n",
       "9996           GT Advance 2: Rally Racing\n",
       "9957                             Deadpool\n",
       "9934                     Turok: Evolution"
      ]
     },
     "execution_count": 23,
     "metadata": {},
     "output_type": "execute_result"
    }
   ],
   "source": [
    "surrounding_median[['Name','NA_Sales','Global_Sales']]\n",
    "ten_median_na_seller_names = surrounding_median[['Name']]"
   ]
  },
  {
   "cell_type": "markdown",
   "id": "49a2348d-2426-4ae9-b077-c1a92b127873",
   "metadata": {},
   "source": [
    "##### 6. For the top-selling game of all time, how many standard deviations above/below the mean are its sales for North America?"
   ]
  },
  {
   "cell_type": "code",
   "execution_count": 11,
   "id": "2029c730-3a8c-45e1-badd-df9f11f2edbf",
   "metadata": {},
   "outputs": [],
   "source": [
    "X=df['NA_Sales'].iloc[0]\n",
    "mean=df['NA_Sales'].mean()\n",
    "std=df['NA_Sales'].std()\n",
    "deviations_from_mean= ((X-mean) /std)"
   ]
  },
  {
   "cell_type": "code",
   "execution_count": 12,
   "id": "6873788a-28ba-43d7-b141-96159a52978c",
   "metadata": {},
   "outputs": [
    {
     "data": {
      "text/plain": [
       "50.47898767479108"
      ]
     },
     "execution_count": 12,
     "metadata": {},
     "output_type": "execute_result"
    }
   ],
   "source": [
    "deviations_from_mean"
   ]
  },
  {
   "cell_type": "markdown",
   "id": "2472eb5f-0dea-47b0-85d4-73769547c2b1",
   "metadata": {},
   "source": [
    "#### 7. The Nintendo Wii seems to have outdone itself with games. How does its average number of sales compare with all of the other platforms?"
   ]
  },
  {
   "cell_type": "code",
   "execution_count": 13,
   "id": "e37c700f-0b19-4675-bbc4-066bf82da492",
   "metadata": {},
   "outputs": [
    {
     "data": {
      "text/plain": [
       "(0.5233896418516336, 0.6994037735849057)"
      ]
     },
     "execution_count": 13,
     "metadata": {},
     "output_type": "execute_result"
    }
   ],
   "source": [
    "wii = df[df['Platform'] == 'Wii']\n",
    "not_wii =  df[df['Platform'] != 'Wii']\n",
    "(not_wii['Global_Sales'].mean() ,wii['Global_Sales'].mean())"
   ]
  },
  {
   "cell_type": "markdown",
   "id": "e1a47bc8-361c-4bbe-b846-d496d7cfff60",
   "metadata": {},
   "source": [
    "##### 8. Come up with 3 more questions that can be answered with this data set. "
   ]
  },
  {
   "cell_type": "markdown",
   "id": "af87b93a-6d9f-4bcb-ace6-d57b33f813bb",
   "metadata": {},
   "source": [
    "##### Q1 the mean value of the Global_Sales:\n"
   ]
  },
  {
   "cell_type": "code",
   "execution_count": 14,
   "id": "28c34f9d-4328-4fb1-bf5e-996f8bb52884",
   "metadata": {},
   "outputs": [
    {
     "data": {
      "text/plain": [
       "0.5374406555006628"
      ]
     },
     "execution_count": 14,
     "metadata": {},
     "output_type": "execute_result"
    }
   ],
   "source": [
    "Global_Sales_mean = df['Global_Sales'].mean()\n",
    "Global_Sales_mean"
   ]
  },
  {
   "cell_type": "markdown",
   "id": "c5421891-538f-42bc-968a-f4048911a0e7",
   "metadata": {},
   "source": [
    "##### Q2 the best seling action game :"
   ]
  },
  {
   "cell_type": "code",
   "execution_count": 15,
   "id": "e785a7b4-025a-428a-aee4-212f27f4c281",
   "metadata": {},
   "outputs": [
    {
     "data": {
      "text/plain": [
       "'inFAMOUS: Second Son'"
      ]
     },
     "execution_count": 15,
     "metadata": {},
     "output_type": "execute_result"
    }
   ],
   "source": [
    "best_action_game = df[df['Genre'] == 'Action']['Name'].max()\n",
    "best_action_game"
   ]
  },
  {
   "cell_type": "markdown",
   "id": "32951064-8124-404b-94b0-08b8dfb9821d",
   "metadata": {},
   "source": [
    "##### Q3 what is the name of best selling game in 2010?"
   ]
  },
  {
   "cell_type": "code",
   "execution_count": 16,
   "id": "44ff63ff-ffbc-4f3a-b2a4-9944f39a1b36",
   "metadata": {},
   "outputs": [
    {
     "data": {
      "text/plain": [
       "'uDraw Studio'"
      ]
     },
     "execution_count": 16,
     "metadata": {},
     "output_type": "execute_result"
    }
   ],
   "source": [
    "best_in_2010 = df[df['Year'] == 2010.0]['Name'].max()\n",
    "best_in_2010"
   ]
  },
  {
   "cell_type": "code",
   "execution_count": 22,
   "id": "e2d3ff31-d9f6-42e4-8b01-2e179b861b80",
   "metadata": {},
   "outputs": [
    {
     "ename": "NameError",
     "evalue": "name 'ten_median_na_seller_names' is not defined",
     "output_type": "error",
     "traceback": [
      "\u001b[0;31m---------------------------------------------------------------------------\u001b[0m",
      "\u001b[0;31mNameError\u001b[0m                                 Traceback (most recent call last)",
      "\u001b[0;32m<ipython-input-22-afb35eab4d3b>\u001b[0m in \u001b[0;36m<module>\u001b[0;34m\u001b[0m\n\u001b[1;32m     14\u001b[0m     \u001b[0mprint\u001b[0m\u001b[0;34m(\u001b[0m\u001b[0;34m\"Success!!!\"\u001b[0m\u001b[0;34m)\u001b[0m\u001b[0;34m\u001b[0m\u001b[0;34m\u001b[0m\u001b[0m\n\u001b[1;32m     15\u001b[0m \u001b[0;34m\u001b[0m\u001b[0m\n\u001b[0;32m---> 16\u001b[0;31m \u001b[0mtest\u001b[0m\u001b[0;34m(\u001b[0m\u001b[0;34m)\u001b[0m\u001b[0;34m\u001b[0m\u001b[0;34m\u001b[0m\u001b[0m\n\u001b[0m",
      "\u001b[0;32m<ipython-input-22-afb35eab4d3b>\u001b[0m in \u001b[0;36mtest\u001b[0;34m()\u001b[0m\n\u001b[1;32m     10\u001b[0m     \u001b[0massert_equal\u001b[0m\u001b[0;34m(\u001b[0m\u001b[0mtop_twenty_highest_grossing_games\u001b[0m\u001b[0;34m.\u001b[0m\u001b[0miloc\u001b[0m\u001b[0;34m[\u001b[0m\u001b[0;36m19\u001b[0m\u001b[0;34m]\u001b[0m\u001b[0;34m.\u001b[0m\u001b[0mName\u001b[0m\u001b[0;34m,\u001b[0m \u001b[0;34m'Brain Age: Train Your Brain in Minutes a Day'\u001b[0m\u001b[0;34m)\u001b[0m\u001b[0;34m\u001b[0m\u001b[0;34m\u001b[0m\u001b[0m\n\u001b[1;32m     11\u001b[0m     \u001b[0massert_equal\u001b[0m\u001b[0;34m(\u001b[0m\u001b[0mna_median_sales\u001b[0m\u001b[0;34m,\u001b[0m \u001b[0;36m0.08\u001b[0m\u001b[0;34m)\u001b[0m\u001b[0;34m\u001b[0m\u001b[0;34m\u001b[0m\u001b[0m\n\u001b[0;32m---> 12\u001b[0;31m     \u001b[0massert_equal\u001b[0m\u001b[0;34m(\u001b[0m\u001b[0mten_median_na_seller_names\u001b[0m\u001b[0;34m,\u001b[0m \u001b[0;32mNone\u001b[0m\u001b[0;34m)\u001b[0m\u001b[0;34m\u001b[0m\u001b[0;34m\u001b[0m\u001b[0m\n\u001b[0m\u001b[1;32m     13\u001b[0m \u001b[0;34m\u001b[0m\u001b[0m\n\u001b[1;32m     14\u001b[0m     \u001b[0mprint\u001b[0m\u001b[0;34m(\u001b[0m\u001b[0;34m\"Success!!!\"\u001b[0m\u001b[0;34m)\u001b[0m\u001b[0;34m\u001b[0m\u001b[0;34m\u001b[0m\u001b[0m\n",
      "\u001b[0;31mNameError\u001b[0m: name 'ten_median_na_seller_names' is not defined"
     ]
    }
   ],
   "source": [
    "def test():\n",
    "    name = [\"Tony Hawk's Pro Skater 5\",\n",
    "'NBA Jam 2002',\n",
    "'Family Game Night 4: The Game Show',\n",
    "\"LEGO Knights' Kingdom\",\n",
    "'Phantasy Star Collection',\n",
    "\"Nickelodeon Dance\",\n",
    "\"A Witch's Tale\",\n",
    "'GT Advance 2: Rally Racing',\n",
    "'Deadpool',\n",
    "'Turok: Evolution']\n",
    "    def assert_equal(actual,expected):\n",
    "        assert actual == expected, f\"Expected {expected} but got {actual}\"\n",
    "\n",
    "    assert_equal(most_common_publisher, 'Electronic Arts')\n",
    "    assert_equal(most_common_platform, 'DS')\n",
    "    assert_equal(most_common_genre ,'Action')\n",
    "    assert_equal(top_twenty_highest_grossing_games.iloc[0].Name ,'Wii Sports')\n",
    "    assert_equal(top_twenty_highest_grossing_games.iloc[19].Name, 'Brain Age: Train Your Brain in Minutes a Day')\n",
    "    assert_equal(na_median_sales, 0.08)\n",
    "    assert_equal(ten_median_na_seller_names, name)\n",
    "\n",
    "    print(\"Success!!!\")\n",
    "\n",
    "test()"
   ]
  },
  {
   "cell_type": "code",
   "execution_count": null,
   "id": "ae089c0b-951c-4dc4-97c1-fa6a96a2413f",
   "metadata": {},
   "outputs": [],
   "source": []
  }
 ],
 "metadata": {
  "kernelspec": {
   "display_name": "Python 3",
   "language": "python",
   "name": "python3"
  },
  "language_info": {
   "codemirror_mode": {
    "name": "ipython",
    "version": 3
   },
   "file_extension": ".py",
   "mimetype": "text/x-python",
   "name": "python",
   "nbconvert_exporter": "python",
   "pygments_lexer": "ipython3",
   "version": "3.9.4"
  }
 },
 "nbformat": 4,
 "nbformat_minor": 5
}
